{
 "cells": [
  {
   "cell_type": "code",
   "execution_count": null,
   "source": [],
   "outputs": [],
   "metadata": {}
  },
  {
   "cell_type": "code",
   "execution_count": 1,
   "source": [
    "import requests"
   ],
   "outputs": [],
   "metadata": {}
  },
  {
   "cell_type": "code",
   "execution_count": null,
   "source": [
    "cookies_one = {\r\n",
    "    'CGIC': 'Cg1maXJlZm94LWItMS1kIkp0ZXh0L2h0bWwsYXBwbGljYXRpb24veGh0bWwreG1sLGFwcGxpY2F0aW9uL3htbDtxPTAuOSxpbWFnZS93ZWJwLCovKjtxPTAuOA',\r\n",
    "    'NID': '220=VSQRsw1oQOxmQ38lLiEXadrFzgKKYIg4lgacn1dkR2ZRvJNTbwrRotLdJ1NV6oSkjatz8nTu1DZO8LVLC-QwyJ7rmjFcLmri8dI5tzV96FkHKNfLtLEdygS2NYk9zQA_W0rkM113RDOFQd9h5jnc3m4B_T_rlySDqNepWDoIUh80QBv6mjNs77SoA7NkNy-8GQoFibEFYXwYt-lYF6ErUNyBvhZaDdLS79ZXB_-7nMKdeqGti3RPt8bPfilsSGTEgK6OFFCuaeCyTE_KGsYUsBo5QwJajxy-pd-NMRocstVQgw6uze7IaB49_U3J4DA',\r\n",
    "    '1P_JAR': '2021-08-01-19',\r\n",
    "    'SID': 'AQgA1-MVn5ELSlWRyxNwLJMhUQxk3Rna17poHhxe4Yzk6QYIHrddYghUU9OmilEXSthaHw.',\r\n",
    "    '__Secure-1PSID': 'AQgA1-MVn5ELSlWRyxNwLJMhUQxk3Rna17poHhxe4Yzk6QYILRWWEIHXh6vpWEqJ_LNzXQ.',\r\n",
    "    '__Secure-3PSID': 'AQgA1-MVn5ELSlWRyxNwLJMhUQxk3Rna17poHhxe4Yzk6QYIbwGz_Dci_kvXJcxmYXq_Tw.',\r\n",
    "    'HSID': 'APiIropmVNT2D__s0',\r\n",
    "    'SSID': 'Ay0ATdSRPId-m2Q1n',\r\n",
    "    'APISID': 'uiIouhQo9var-Y1D/AsoXrQpCZZ1ADSkXb',\r\n",
    "    'SAPISID': 'ZmLZX5CUWAeYI6hC/A1RIyEcnn3FEFDvvl',\r\n",
    "    '__Secure-1PAPISID': 'ZmLZX5CUWAeYI6hC/A1RIyEcnn3FEFDvvl',\r\n",
    "    '__Secure-3PAPISID': 'ZmLZX5CUWAeYI6hC/A1RIyEcnn3FEFDvvl',\r\n",
    "    'SIDCC': 'AJi4QfH9kMt-Jm6UmnwUx0fMHMHP1ER0p_MEx03UbbCW3N4s1reBbGY4etk_er9Pq9KN1ImR0CA',\r\n",
    "    '__Secure-3PSIDCC': 'AJi4QfFGDs5R6PF4nHyIQzNxHH8vLHeOPt9QbQybVDz0BHUZhDRBZxfcxqQwT5bl5oDu-07uJ-E',\r\n",
    "    'SEARCH_SAMESITE': 'CgQIlJMB',\r\n",
    "    'OGPC': '19022552-1:19022519-1:19022622-1:',\r\n",
    "    'OGP': '-19022552:-19022622:',\r\n",
    "    'OTZ': '6087276_76_80_104160_76_446820',\r\n",
    "    'DV': 'U_dLMYVQv4BGANEH2apbUwbx4yEysNdIVOFZOLg6LQEAAJAWrwTWdqIhPQEAALy2H6usCMoVYQAAAA',\r\n",
    "}"
   ],
   "outputs": [],
   "metadata": {}
  },
  {
   "cell_type": "code",
   "execution_count": 3,
   "source": [
    "response = requests.get(url)"
   ],
   "outputs": [],
   "metadata": {}
  },
  {
   "cell_type": "code",
   "execution_count": 36,
   "source": [
    "import requests\r\n",
    "\r\n",
    "cookies = {\r\n",
    "    'CGIC': 'Cg1maXJlZm94LWItMS1kIkp0ZXh0L2h0bWwsYXBwbGljYXRpb24veGh0bWwreG1sLGFwcGxpY2F0aW9uL3htbDtxPTAuOSxpbWFnZS93ZWJwLCovKjtxPTAuOA',\r\n",
    "    'NID': '220=VSQRsw1oQOxmQ38lLiEXadrFzgKKYIg4lgacn1dkR2ZRvJNTbwrRotLdJ1NV6oSkjatz8nTu1DZO8LVLC-QwyJ7rmjFcLmri8dI5tzV96FkHKNfLtLEdygS2NYk9zQA_W0rkM113RDOFQd9h5jnc3m4B_T_rlySDqNepWDoIUh80QBv6mjNs77SoA7NkNy-8GQoFibEFYXwYt-lYF6ErUNyBvhZaDdLS79ZXB_-7nMKdeqGti3RPt8bPfilsSGTEgK6OFFCuaeCyTE_KGsYUsBo5QwJajxy-pd-NMRocstVQgw6uze7IaB49_U3J4DA',\r\n",
    "    '1P_JAR': '2021-08-01-19',\r\n",
    "    'SID': 'AQgA1-MVn5ELSlWRyxNwLJMhUQxk3Rna17poHhxe4Yzk6QYIHrddYghUU9OmilEXSthaHw.',\r\n",
    "    '__Secure-1PSID': 'AQgA1-MVn5ELSlWRyxNwLJMhUQxk3Rna17poHhxe4Yzk6QYILRWWEIHXh6vpWEqJ_LNzXQ.',\r\n",
    "    '__Secure-3PSID': 'AQgA1-MVn5ELSlWRyxNwLJMhUQxk3Rna17poHhxe4Yzk6QYIbwGz_Dci_kvXJcxmYXq_Tw.',\r\n",
    "    'HSID': 'APiIropmVNT2D__s0',\r\n",
    "    'SSID': 'Ay0ATdSRPId-m2Q1n',\r\n",
    "    'APISID': 'uiIouhQo9var-Y1D/AsoXrQpCZZ1ADSkXb',\r\n",
    "    'SAPISID': 'ZmLZX5CUWAeYI6hC/A1RIyEcnn3FEFDvvl',\r\n",
    "    '__Secure-1PAPISID': 'ZmLZX5CUWAeYI6hC/A1RIyEcnn3FEFDvvl',\r\n",
    "    '__Secure-3PAPISID': 'ZmLZX5CUWAeYI6hC/A1RIyEcnn3FEFDvvl',\r\n",
    "    'SIDCC': 'AJi4QfH9kMt-Jm6UmnwUx0fMHMHP1ER0p_MEx03UbbCW3N4s1reBbGY4etk_er9Pq9KN1ImR0CA',\r\n",
    "    '__Secure-3PSIDCC': 'AJi4QfFGDs5R6PF4nHyIQzNxHH8vLHeOPt9QbQybVDz0BHUZhDRBZxfcxqQwT5bl5oDu-07uJ-E',\r\n",
    "    'SEARCH_SAMESITE': 'CgQIlJMB',\r\n",
    "    'OGPC': '19022552-1:19022519-1:19022622-1:',\r\n",
    "    'OGP': '-19022552:-19022622:',\r\n",
    "    'OTZ': '6087276_76_80_104160_76_446820',\r\n",
    "    'DV': 'U_dLMYVQv4BGANEH2apbUwbx4yEysNdIVOFZOLg6LQEAAJAWrwTWdqIhPQEAALy2H6usCMoVYQAAAA',\r\n",
    "}\r\n",
    "\r\n",
    "headers = {\r\n",
    "    'User-Agent': 'Mozilla/5.0 (Windows NT 10.0; Win64; x64; rv:90.0) Gecko/20100101 Firefox/90.0',\r\n",
    "    'Accept': 'text/html,application/xhtml+xml,application/xml;q=0.9,image/webp,*/*;q=0.8',\r\n",
    "    'Accept-Language': 'en-US,en;q=0.5',\r\n",
    "    'Alt-Used': 'www.google.com',\r\n",
    "    'Connection': 'keep-alive',\r\n",
    "    'Upgrade-Insecure-Requests': '1',\r\n",
    "    'Sec-Fetch-Dest': 'document',\r\n",
    "    'Sec-Fetch-Mode': 'navigate',\r\n",
    "    'Sec-Fetch-Site': 'none',\r\n",
    "    'Sec-Fetch-User': '?1',\r\n",
    "    'Cache-Control': 'max-age=0',\r\n",
    "}\r\n",
    "\r\n",
    "params = (\r\n",
    "    ('client', 'firefox-b-1-d'),\r\n",
    "    ('q', 'overwhelming jon bellion youtube'),\r\n",
    ")\r\n",
    "\r\n",
    "response = requests.get('https://www.google.com/search', headers=headers, params=params, cookies=cookies)\r\n",
    "\r\n",
    "#NB. Original query string below. It seems impossible to parse and\r\n",
    "#reproduce query strings 100% accurately so the one below is given\r\n",
    "#in case the reproduced version is not \"correct\".\r\n",
    "# response = requests.get('https://www.google.com/search?client=firefox-b-1-d&q=overwhelming+jon+bellion+youtube', headers=headers, cookies=cookies)"
   ],
   "outputs": [],
   "metadata": {}
  },
  {
   "cell_type": "code",
   "execution_count": 35,
   "source": [
    "import requests\r\n",
    "\r\n",
    "cookies = {\r\n",
    "    'CGIC': 'Cg1maXJlZm94LWItMS1kIkp0ZXh0L2h0bWwsYXBwbGljYXRpb24veGh0bWwreG1sLGFwcGxpY2F0aW9uL3htbDtxPTAuOSxpbWFnZS93ZWJwLCovKjtxPTAuOA',\r\n",
    "    'NID': '220=Y27Mf1DNFyRRZF-HMynzDkb1yOalrCBGs9BTTwNbMTrSeT7DHuu8ngJX9tGw0C_97uJxQma8Hzb4sSdakVCIhAewx_ccbSioi2ZIrG8LnQ0vi5j-_qacEuPPJ6IR7hl6tIb3zsf9IoqP2WDjgBBuZaNmYLYsECUzT8Rc2dX5MGAJBIxcI8pKYluRDMkJ794_1z81azFWY0BEgCaTZn5NHYewYmxh8bZjoAfPBOLCP1fqjWUcgwSyTDbbzmN6ywllEGGrujd6gglOlkjiCoDyfOSnIQLxFZz4M9kDQW5btqj7vIWblIoXpQb33xqQaZE',\r\n",
    "    '1P_JAR': '2021-07-31-16',\r\n",
    "    'SID': 'AQgA1-MVn5ELSlWRyxNwLJMhUQxk3Rna17poHhxe4Yzk6QYIHrddYghUU9OmilEXSthaHw.',\r\n",
    "    '__Secure-1PSID': 'AQgA1-MVn5ELSlWRyxNwLJMhUQxk3Rna17poHhxe4Yzk6QYILRWWEIHXh6vpWEqJ_LNzXQ.',\r\n",
    "    '__Secure-3PSID': 'AQgA1-MVn5ELSlWRyxNwLJMhUQxk3Rna17poHhxe4Yzk6QYIbwGz_Dci_kvXJcxmYXq_Tw.',\r\n",
    "    'HSID': 'APiIropmVNT2D__s0',\r\n",
    "    'SSID': 'Ay0ATdSRPId-m2Q1n',\r\n",
    "    'APISID': 'uiIouhQo9var-Y1D/AsoXrQpCZZ1ADSkXb',\r\n",
    "    'SAPISID': 'ZmLZX5CUWAeYI6hC/A1RIyEcnn3FEFDvvl',\r\n",
    "    '__Secure-1PAPISID': 'ZmLZX5CUWAeYI6hC/A1RIyEcnn3FEFDvvl',\r\n",
    "    '__Secure-3PAPISID': 'ZmLZX5CUWAeYI6hC/A1RIyEcnn3FEFDvvl',\r\n",
    "    'SIDCC': 'AJi4QfGboQDEul_V8uvRLnY1DNdzIHkRSF7_zTHeczWxKEtTkMmqNzyknHsRmwF2bVhO0tsxK-g',\r\n",
    "    '__Secure-3PSIDCC': 'AJi4QfGMacf4QYUzNgl9G50hMJmcR_Zbm9wgInXyTXrSTK5ppuNZ-7XqTVsrizd9jBCX1oMHKSI',\r\n",
    "    'SEARCH_SAMESITE': 'CgQIlJMB',\r\n",
    "    'OGPC': '19022552-1:19022519-1:19022622-1:',\r\n",
    "    'OGP': '-19022552:-19022622:',\r\n",
    "    'OTZ': '6087276_76_80_104160_76_446820',\r\n",
    "}\r\n",
    "\r\n",
    "headers = {\r\n",
    "    'User-Agent': 'Mozilla/5.0 (Windows NT 10.0; Win64; x64; rv:90.0) Gecko/20100101 Firefox/90.0',\r\n",
    "    'Accept': 'text/html,application/xhtml+xml,application/xml;q=0.9,image/webp,*/*;q=0.8',\r\n",
    "    'Accept-Language': 'en-US,en;q=0.5',\r\n",
    "    'Connection': 'keep-alive',\r\n",
    "    'Upgrade-Insecure-Requests': '1',\r\n",
    "    'Sec-Fetch-Dest': 'document',\r\n",
    "    'Sec-Fetch-Mode': 'navigate',\r\n",
    "    'Sec-Fetch-Site': 'none',\r\n",
    "    'Sec-Fetch-User': '?1',\r\n",
    "    'Cache-Control': 'max-age=0',\r\n",
    "}\r\n",
    "\r\n",
    "params = (\r\n",
    "    ('client', 'firefox-b-1-d'),\r\n",
    "    ('q', 'overwhelming jon bellion youtube'),\r\n",
    ")\r\n",
    "\r\n",
    "response = requests.get('https://www.google.com/search', headers=headers, params=params, cookies=cookies)\r\n",
    "\r\n",
    "#NB. Original query string below. It seems impossible to parse and\r\n",
    "#reproduce query strings 100% accurately so the one below is given\r\n",
    "#in case the reproduced version is not \"correct\".\r\n",
    "# response = requests.get('https://www.google.com/search?client=firefox-b-1-d&q=kyoto+glitch+gum+youtube', headers=headers, cookies=cookies)"
   ],
   "outputs": [],
   "metadata": {}
  },
  {
   "cell_type": "code",
   "execution_count": 23,
   "source": [
    "for key in cookies.keys():\r\n",
    "    if not cookies[key] == new_cookies[key]:\r\n",
    "        print(f'{key} : {cookies[key]} -> {new_cookies[key]}')"
   ],
   "outputs": [
    {
     "output_type": "stream",
     "name": "stdout",
     "text": [
      "NID : 220=uEy-eRW6HtM-p-JYp58Llf8oEnFZo6GOz3GgvUH1qmthKOC969OTEJamZNzPVxtyYHD6gvvuVXeW_zX9gTyWTFejcKeUkUvtgYUxqveC0K9tYgeNXFLeLWDmqYQLJtS3yi3-7sDkTrPYzkOQvu0brivXJ_hltIgUGqgDP1pEsncskOVbwHpXPHtNS4hTENmtsuE35LzC5BgxqUdkPhIBxCyKAMASWz5j9LnguXoD648ym3FArL9gWY7WKRJILn_ht2orOWx1gbahiYrb_G7m-wqRVF4r1bsLxG0ZSrS6_l-jmLz-5H2WqzWWXyJhl_Q -> 220=Y27Mf1DNFyRRZF-HMynzDkb1yOalrCBGs9BTTwNbMTrSeT7DHuu8ngJX9tGw0C_97uJxQma8Hzb4sSdakVCIhAewx_ccbSioi2ZIrG8LnQ0vi5j-_qacEuPPJ6IR7hl6tIb3zsf9IoqP2WDjgBBuZaNmYLYsECUzT8Rc2dX5MGAJBIxcI8pKYluRDMkJ794_1z81azFWY0BEgCaTZn5NHYewYmxh8bZjoAfPBOLCP1fqjWUcgwSyTDbbzmN6ywllEGGrujd6gglOlkjiCoDyfOSnIQLxFZz4M9kDQW5btqj7vIWblIoXpQb33xqQaZE\n",
      "1P_JAR : 2021-07-31-08 -> 2021-07-31-16\n",
      "SIDCC : AJi4QfEtGyf8ncoBLghj599jJ1e-3WXJz0uykfWrj41gidNvIC0CXPDFalY7eVq8dIL4ipdKX0U -> AJi4QfGboQDEul_V8uvRLnY1DNdzIHkRSF7_zTHeczWxKEtTkMmqNzyknHsRmwF2bVhO0tsxK-g\n",
      "__Secure-3PSIDCC : AJi4QfHmMMXkLmYcuGyygbfL8eRImPVdJZh-j-5saiWn8J-5CGPclW5pUrDqMElYhkaXRa1_DjQ -> AJi4QfGMacf4QYUzNgl9G50hMJmcR_Zbm9wgInXyTXrSTK5ppuNZ-7XqTVsrizd9jBCX1oMHKSI\n"
     ]
    },
    {
     "output_type": "error",
     "ename": "KeyError",
     "evalue": "'DV'",
     "traceback": [
      "\u001b[1;31m---------------------------------------------------------------------------\u001b[0m",
      "\u001b[1;31mKeyError\u001b[0m                                  Traceback (most recent call last)",
      "\u001b[1;32m<ipython-input-23-0cf30522a5fd>\u001b[0m in \u001b[0;36m<module>\u001b[1;34m\u001b[0m\n\u001b[0;32m      1\u001b[0m \u001b[1;32mfor\u001b[0m \u001b[0mkey\u001b[0m \u001b[1;32min\u001b[0m \u001b[0mcookies\u001b[0m\u001b[1;33m.\u001b[0m\u001b[0mkeys\u001b[0m\u001b[1;33m(\u001b[0m\u001b[1;33m)\u001b[0m\u001b[1;33m:\u001b[0m\u001b[1;33m\u001b[0m\u001b[1;33m\u001b[0m\u001b[0m\n\u001b[1;32m----> 2\u001b[1;33m     \u001b[1;32mif\u001b[0m \u001b[1;32mnot\u001b[0m \u001b[0mcookies\u001b[0m\u001b[1;33m[\u001b[0m\u001b[0mkey\u001b[0m\u001b[1;33m]\u001b[0m \u001b[1;33m==\u001b[0m \u001b[0mnew_cookies\u001b[0m\u001b[1;33m[\u001b[0m\u001b[0mkey\u001b[0m\u001b[1;33m]\u001b[0m\u001b[1;33m:\u001b[0m\u001b[1;33m\u001b[0m\u001b[1;33m\u001b[0m\u001b[0m\n\u001b[0m\u001b[0;32m      3\u001b[0m         \u001b[0mprint\u001b[0m\u001b[1;33m(\u001b[0m\u001b[1;34mf'{key} : {cookies[key]} -> {new_cookies[key]}'\u001b[0m\u001b[1;33m)\u001b[0m\u001b[1;33m\u001b[0m\u001b[1;33m\u001b[0m\u001b[0m\n",
      "\u001b[1;31mKeyError\u001b[0m: 'DV'"
     ]
    }
   ],
   "metadata": {}
  },
  {
   "cell_type": "code",
   "execution_count": 21,
   "source": [
    "new_cookies = {\r\n",
    "    'CGIC': 'Cg1maXJlZm94LWItMS1kIkp0ZXh0L2h0bWwsYXBwbGljYXRpb24veGh0bWwreG1sLGFwcGxpY2F0aW9uL3htbDtxPTAuOSxpbWFnZS93ZWJwLCovKjtxPTAuOA',\r\n",
    "    'NID': '220=Y27Mf1DNFyRRZF-HMynzDkb1yOalrCBGs9BTTwNbMTrSeT7DHuu8ngJX9tGw0C_97uJxQma8Hzb4sSdakVCIhAewx_ccbSioi2ZIrG8LnQ0vi5j-_qacEuPPJ6IR7hl6tIb3zsf9IoqP2WDjgBBuZaNmYLYsECUzT8Rc2dX5MGAJBIxcI8pKYluRDMkJ794_1z81azFWY0BEgCaTZn5NHYewYmxh8bZjoAfPBOLCP1fqjWUcgwSyTDbbzmN6ywllEGGrujd6gglOlkjiCoDyfOSnIQLxFZz4M9kDQW5btqj7vIWblIoXpQb33xqQaZE',\r\n",
    "    '1P_JAR': '2021-07-31-16',\r\n",
    "    'SID': 'AQgA1-MVn5ELSlWRyxNwLJMhUQxk3Rna17poHhxe4Yzk6QYIHrddYghUU9OmilEXSthaHw.',\r\n",
    "    '__Secure-1PSID': 'AQgA1-MVn5ELSlWRyxNwLJMhUQxk3Rna17poHhxe4Yzk6QYILRWWEIHXh6vpWEqJ_LNzXQ.',\r\n",
    "    '__Secure-3PSID': 'AQgA1-MVn5ELSlWRyxNwLJMhUQxk3Rna17poHhxe4Yzk6QYIbwGz_Dci_kvXJcxmYXq_Tw.',\r\n",
    "    'HSID': 'APiIropmVNT2D__s0',\r\n",
    "    'SSID': 'Ay0ATdSRPId-m2Q1n',\r\n",
    "    'APISID': 'uiIouhQo9var-Y1D/AsoXrQpCZZ1ADSkXb',\r\n",
    "    'SAPISID': 'ZmLZX5CUWAeYI6hC/A1RIyEcnn3FEFDvvl',\r\n",
    "    '__Secure-1PAPISID': 'ZmLZX5CUWAeYI6hC/A1RIyEcnn3FEFDvvl',\r\n",
    "    '__Secure-3PAPISID': 'ZmLZX5CUWAeYI6hC/A1RIyEcnn3FEFDvvl',\r\n",
    "    'SIDCC': 'AJi4QfGboQDEul_V8uvRLnY1DNdzIHkRSF7_zTHeczWxKEtTkMmqNzyknHsRmwF2bVhO0tsxK-g',\r\n",
    "    '__Secure-3PSIDCC': 'AJi4QfGMacf4QYUzNgl9G50hMJmcR_Zbm9wgInXyTXrSTK5ppuNZ-7XqTVsrizd9jBCX1oMHKSI',\r\n",
    "    'SEARCH_SAMESITE': 'CgQIlJMB',\r\n",
    "    'OGPC': '19022552-1:19022519-1:19022622-1:',\r\n",
    "    'OGP': '-19022552:-19022622:',\r\n",
    "    'OTZ': '6087276_76_80_104160_76_446820',\r\n",
    "}"
   ],
   "outputs": [],
   "metadata": {}
  },
  {
   "cell_type": "code",
   "execution_count": 40,
   "source": [
    "import requests\r\n",
    "\r\n",
    "cookies = {\r\n",
    "    'CGIC': 'Cg1maXJlZm94LWItMS1kIkp0ZXh0L2h0bWwsYXBwbGljYXRpb24veGh0bWwreG1sLGFwcGxpY2F0aW9uL3htbDtxPTAuOSxpbWFnZS93ZWJwLCovKjtxPTAuOA',\r\n",
    "    'NID': '220=uEy-eRW6HtM-p-JYp58Llf8oEnFZo6GOz3GgvUH1qmthKOC969OTEJamZNzPVxtyYHD6gvvuVXeW_zX9gTyWTFejcKeUkUvtgYUxqveC0K9tYgeNXFLeLWDmqYQLJtS3yi3-7sDkTrPYzkOQvu0brivXJ_hltIgUGqgDP1pEsncskOVbwHpXPHtNS4hTENmtsuE35LzC5BgxqUdkPhIBxCyKAMASWz5j9LnguXoD648ym3FArL9gWY7WKRJILn_ht2orOWx1gbahiYrb_G7m-wqRVF4r1bsLxG0ZSrS6_l-jmLz-5H2WqzWWXyJhl_Q',\r\n",
    "    '1P_JAR': '2021-07-31-08',\r\n",
    "    'SID': 'AQgA1-MVn5ELSlWRyxNwLJMhUQxk3Rna17poHhxe4Yzk6QYIHrddYghUU9OmilEXSthaHw.',\r\n",
    "    '__Secure-1PSID': 'AQgA1-MVn5ELSlWRyxNwLJMhUQxk3Rna17poHhxe4Yzk6QYILRWWEIHXh6vpWEqJ_LNzXQ.',\r\n",
    "    '__Secure-3PSID': 'AQgA1-MVn5ELSlWRyxNwLJMhUQxk3Rna17poHhxe4Yzk6QYIbwGz_Dci_kvXJcxmYXq_Tw.',\r\n",
    "    'HSID': 'APiIropmVNT2D__s0',\r\n",
    "    'SSID': 'Ay0ATdSRPId-m2Q1n',\r\n",
    "    'APISID': 'uiIouhQo9var-Y1D/AsoXrQpCZZ1ADSkXb',\r\n",
    "    'SAPISID': 'ZmLZX5CUWAeYI6hC/A1RIyEcnn3FEFDvvl',\r\n",
    "    '__Secure-1PAPISID': 'ZmLZX5CUWAeYI6hC/A1RIyEcnn3FEFDvvl',\r\n",
    "    '__Secure-3PAPISID': 'ZmLZX5CUWAeYI6hC/A1RIyEcnn3FEFDvvl',\r\n",
    "    'SIDCC': 'AJi4QfEtGyf8ncoBLghj599jJ1e-3WXJz0uykfWrj41gidNvIC0CXPDFalY7eVq8dIL4ipdKX0U',\r\n",
    "    '__Secure-3PSIDCC': 'AJi4QfHmMMXkLmYcuGyygbfL8eRImPVdJZh-j-5saiWn8J-5CGPclW5pUrDqMElYhkaXRa1_DjQ',\r\n",
    "    'SEARCH_SAMESITE': 'CgQIlJMB',\r\n",
    "    'OGPC': '19022552-1:19022519-1:19022622-1:',\r\n",
    "    'OGP': '-19022552:-19022622:',\r\n",
    "    'OTZ': '6087276_76_80_104160_76_446820',\r\n",
    "    'DV': 'U_dLMYVQv4BGANEH2apbUwZR5Wq5r9dIVOFZOLg6bQIAAJAWrwTWdqIhnQAAALy2H6usCMoVQQAAAA'\r\n",
    "}\r\n",
    "\r\n",
    "headers = {\r\n",
    "    'User-Agent': 'Mozilla/5.0 (Windows NT 10.0; Win64; x64; rv:90.0) Gecko/20100101 Firefox/90.0',\r\n",
    "    'Accept': 'text/html,application/xhtml+xml,application/xml;q=0.9,image/webp,*/*;q=0.8',\r\n",
    "    'Accept-Language': 'en-US,en;q=0.5',\r\n",
    "    'Alt-Used': 'www.google.com',\r\n",
    "    'Connection': 'keep-alive',\r\n",
    "    'Upgrade-Insecure-Requests': '1',\r\n",
    "    'Sec-Fetch-Dest': 'document',\r\n",
    "    'Sec-Fetch-Mode': 'navigate',\r\n",
    "    'Sec-Fetch-Site': 'none',\r\n",
    "    'Sec-Fetch-User': '?1',\r\n",
    "    'Cache-Control': 'max-age=0',\r\n",
    "    'TE': 'trailers'\r\n",
    "}\r\n",
    "\r\n",
    "params = {\r\n",
    "    'client' : 'firefox-b-1-d',\r\n",
    "    'q' : 'overwhelming jon bellion youtube'\r\n",
    "}\r\n",
    "\r\n",
    "response = requests.get('https://www.google.com/search', params=params, headers=headers)\r\n",
    "\r\n",
    "#NB. Original query string below. It seems impossible to parse and\r\n",
    "#reproduce query strings 100% accurately so the one below is given\r\n",
    "#in case the reproduced version is not \"correct\".\r\n",
    "# response = requests.get('https://www.google.com/search?client=firefox-b-1-d&q=overwhelming+jon+bellion+youtube', headers=headers, cookies=cookies)\r\n",
    "response"
   ],
   "outputs": [
    {
     "output_type": "execute_result",
     "data": {
      "text/plain": [
       "<Response [200]>"
      ]
     },
     "metadata": {},
     "execution_count": 40
    }
   ],
   "metadata": {}
  },
  {
   "cell_type": "code",
   "execution_count": 33,
   "source": [
    "import requests\r\n",
    "\r\n",
    "cookies = {\r\n",
    "    'CGIC': 'Cg1maXJlZm94LWItMS1kIkp0ZXh0L2h0bWwsYXBwbGljYXRpb24veGh0bWwreG1sLGFwcGxpY2F0aW9uL3htbDtxPTAuOSxpbWFnZS93ZWJwLCovKjtxPTAuOA',\r\n",
    "    'NID': '220=VSQRsw1oQOxmQ38lLiEXadrFzgKKYIg4lgacn1dkR2ZRvJNTbwrRotLdJ1NV6oSkjatz8nTu1DZO8LVLC-QwyJ7rmjFcLmri8dI5tzV96FkHKNfLtLEdygS2NYk9zQA_W0rkM113RDOFQd9h5jnc3m4B_T_rlySDqNepWDoIUh80QBv6mjNs77SoA7NkNy-8GQoFibEFYXwYt-lYF6ErUNyBvhZaDdLS79ZXB_-7nMKdeqGti3RPt8bPfilsSGTEgK6OFFCuaeCyTE_KGsYUsBo5QwJajxy-pd-NMRocstVQgw6uze7IaB49_U3J4DA',\r\n",
    "    '1P_JAR': '2021-08-01-19',\r\n",
    "    'SID': 'AQgA1-MVn5ELSlWRyxNwLJMhUQxk3Rna17poHhxe4Yzk6QYIHrddYghUU9OmilEXSthaHw.',\r\n",
    "    '__Secure-1PSID': 'AQgA1-MVn5ELSlWRyxNwLJMhUQxk3Rna17poHhxe4Yzk6QYILRWWEIHXh6vpWEqJ_LNzXQ.',\r\n",
    "    '__Secure-3PSID': 'AQgA1-MVn5ELSlWRyxNwLJMhUQxk3Rna17poHhxe4Yzk6QYIbwGz_Dci_kvXJcxmYXq_Tw.',\r\n",
    "    'HSID': 'APiIropmVNT2D__s0',\r\n",
    "    'SSID': 'Ay0ATdSRPId-m2Q1n',\r\n",
    "    'APISID': 'uiIouhQo9var-Y1D/AsoXrQpCZZ1ADSkXb',\r\n",
    "    'SAPISID': 'ZmLZX5CUWAeYI6hC/A1RIyEcnn3FEFDvvl',\r\n",
    "    '__Secure-1PAPISID': 'ZmLZX5CUWAeYI6hC/A1RIyEcnn3FEFDvvl',\r\n",
    "    '__Secure-3PAPISID': 'ZmLZX5CUWAeYI6hC/A1RIyEcnn3FEFDvvl',\r\n",
    "    'SIDCC': 'AJi4QfH2Gtzc0djDXlszjg3F41ni9sGMDT07USC6caWiycOhE0TqrTfAKM6SdXg7Qdh4UtAFKBo',\r\n",
    "    '__Secure-3PSIDCC': 'AJi4QfFocP7OzhaLzbXGUPXXL5atADXir_OCkT6rO-ugdaHrBqOjoqn43wbqMEhT3KGliDZllf8',\r\n",
    "    'SEARCH_SAMESITE': 'CgQIlJMB',\r\n",
    "    'OGPC': '19022552-1:19022519-1:19022622-1:',\r\n",
    "    'OGP': '-19022552:-19022622:',\r\n",
    "    'OTZ': '6087276_76_80_104160_76_446820',\r\n",
    "    'DV': 'U_dLMYVQv4BG8Np-rLIiKFf07boysBdEH2Srbk0ZxAAAADASVXgWDq5OuwAAAKTFK4G1nWhIVwAAAA',\r\n",
    "}\r\n",
    "\r\n",
    "headers = {\r\n",
    "    'User-Agent': 'Mozilla/5.0 (Windows NT 10.0; Win64; x64; rv:90.0) Gecko/20100101 Firefox/90.0',\r\n",
    "    'Accept': 'text/html,application/xhtml+xml,application/xml;q=0.9,image/webp,*/*;q=0.8',\r\n",
    "    'Accept-Language': 'en-US,en;q=0.5',\r\n",
    "    'Alt-Used': 'www.google.com',\r\n",
    "    'Connection': 'keep-alive',\r\n",
    "    'Upgrade-Insecure-Requests': '1',\r\n",
    "    'Sec-Fetch-Dest': 'document',\r\n",
    "    'Sec-Fetch-Mode': 'navigate',\r\n",
    "    'Sec-Fetch-Site': 'none',\r\n",
    "    'Sec-Fetch-User': '?1',\r\n",
    "    'Cache-Control': 'max-age=0',\r\n",
    "    'TE': 'trailers',\r\n",
    "}\r\n",
    "\r\n",
    "params = (\r\n",
    "    ('client', 'firefox-b-1-d'),\r\n",
    "    ('q', 'la la land bryce vine youtube'),\r\n",
    ")\r\n",
    "\r\n",
    "response = requests.get('https://www.google.com/search', headers=headers, params=params)\r\n",
    "\r\n",
    "#NB. Original query string below. It seems impossible to parse and\r\n",
    "#reproduce query strings 100% accurately so the one below is given\r\n",
    "#in case the reproduced version is not \"correct\".\r\n",
    "# response = requests.get('https://www.google.com/search?client=firefox-b-1-d&q=la+la+land+bryce+vine+youtube', headers=headers, cookies=cookies)\r\n"
   ],
   "outputs": [],
   "metadata": {}
  },
  {
   "cell_type": "code",
   "execution_count": 21,
   "source": [
    "import requests\r\n",
    "\r\n",
    "cookies = {\r\n",
    "    'CGIC': 'Cg1maXJlZm94LWItMS1kIkp0ZXh0L2h0bWwsYXBwbGljYXRpb24veGh0bWwreG1sLGFwcGxpY2F0aW9uL3htbDtxPTAuOSxpbWFnZS93ZWJwLCovKjtxPTAuOA',\r\n",
    "    'NID': '220=VSQRsw1oQOxmQ38lLiEXadrFzgKKYIg4lgacn1dkR2ZRvJNTbwrRotLdJ1NV6oSkjatz8nTu1DZO8LVLC-QwyJ7rmjFcLmri8dI5tzV96FkHKNfLtLEdygS2NYk9zQA_W0rkM113RDOFQd9h5jnc3m4B_T_rlySDqNepWDoIUh80QBv6mjNs77SoA7NkNy-8GQoFibEFYXwYt-lYF6ErUNyBvhZaDdLS79ZXB_-7nMKdeqGti3RPt8bPfilsSGTEgK6OFFCuaeCyTE_KGsYUsBo5QwJajxy-pd-NMRocstVQgw6uze7IaB49_U3J4DA',\r\n",
    "    '1P_JAR': '2021-08-01-19',\r\n",
    "    'SID': 'AQgA1-MVn5ELSlWRyxNwLJMhUQxk3Rna17poHhxe4Yzk6QYIHrddYghUU9OmilEXSthaHw.',\r\n",
    "    '__Secure-1PSID': 'AQgA1-MVn5ELSlWRyxNwLJMhUQxk3Rna17poHhxe4Yzk6QYILRWWEIHXh6vpWEqJ_LNzXQ.',\r\n",
    "    '__Secure-3PSID': 'AQgA1-MVn5ELSlWRyxNwLJMhUQxk3Rna17poHhxe4Yzk6QYIbwGz_Dci_kvXJcxmYXq_Tw.',\r\n",
    "    'HSID': 'APiIropmVNT2D__s0',\r\n",
    "    'SSID': 'Ay0ATdSRPId-m2Q1n',\r\n",
    "    'APISID': 'uiIouhQo9var-Y1D/AsoXrQpCZZ1ADSkXb',\r\n",
    "    'SAPISID': 'ZmLZX5CUWAeYI6hC/A1RIyEcnn3FEFDvvl',\r\n",
    "    '__Secure-1PAPISID': 'ZmLZX5CUWAeYI6hC/A1RIyEcnn3FEFDvvl',\r\n",
    "    '__Secure-3PAPISID': 'ZmLZX5CUWAeYI6hC/A1RIyEcnn3FEFDvvl',\r\n",
    "    'SIDCC': 'AJi4QfFI_gHIjKz3q3luwL6wXehumajstkzhLOqI92dua5JA1HqVvQJ6D3tKzo7x32Lbd6maifk',\r\n",
    "    '__Secure-3PSIDCC': 'AJi4QfGkaZaC6juuKpU6rPTCxxjZV97hPtxivLrZc_5dWrNieH8ZYZ8a3uRt0XkFrcR9ramV1u0',\r\n",
    "    'SEARCH_SAMESITE': 'CgQIlJMB',\r\n",
    "    'OGPC': '19022552-1:19022519-1:19022622-1:',\r\n",
    "    'OGP': '-19022552:-19022622:',\r\n",
    "    'OTZ': '6087276_76_80_104160_76_446820',\r\n",
    "    'DV': 'U_dLMYVQv4BGkBavBNZ2oiGdTtsysNdIVOFZOLg6bQEAAADRB9mqW1MGYQAAALy2H6usCMoVQQAAAA',\r\n",
    "}\r\n",
    "\r\n",
    "headers = {\r\n",
    "    'User-Agent': 'Mozilla/5.0 (Windows NT 10.0; Win64; x64; rv:90.0) Gecko/20100101 Firefox/90.0',\r\n",
    "    'Accept': 'text/html,application/xhtml+xml,application/xml;q=0.9,image/webp,*/*;q=0.8',\r\n",
    "    'Accept-Language': 'en-US,en;q=0.5',\r\n",
    "    'Alt-Used': 'www.google.com',\r\n",
    "    'Connection': 'keep-alive',\r\n",
    "    'Upgrade-Insecure-Requests': '1',\r\n",
    "    'Sec-Fetch-Dest': 'document',\r\n",
    "    'Sec-Fetch-Mode': 'navigate',\r\n",
    "    'Sec-Fetch-Site': 'none',\r\n",
    "    'Sec-Fetch-User': '?1',\r\n",
    "    'Cache-Control': 'max-age=0',\r\n",
    "    'TE': 'trailers',\r\n",
    "}\r\n",
    "\r\n",
    "params = (\r\n",
    "    ('client', 'firefox-b-1-d'),\r\n",
    "    ('q', 'random thing youtube'),\r\n",
    ")\r\n",
    "\r\n",
    "response = requests.get('https://www.google.com/search', headers=headers, params=params, cookies=cookies)\r\n",
    "\r\n",
    "#NB. Original query string below. It seems impossible to parse and\r\n",
    "#reproduce query strings 100% accurately so the one below is given\r\n",
    "#in case the reproduced version is not \"correct\".\r\n",
    "# response = requests.get('https://www.google.com/search?client=firefox-b-1-d&q=random+thing+youtube', headers=headers, cookies=cookies)\r\n"
   ],
   "outputs": [],
   "metadata": {}
  },
  {
   "cell_type": "code",
   "execution_count": 41,
   "source": [
    "from bs4 import BeautifulSoup\r\n",
    "soup = BeautifulSoup(response.text)\r\n",
    "search_bloc = soup.find('div', {'id' : 'search'})\r\n",
    "if search_bloc is None:\r\n",
    "    print(search_bloc)\r\n",
    "candidates = [result_block.find('a')['href'] for result_block in search_bloc.find_all('div', {'class' : 'g'})]\r\n",
    "print(candidates)"
   ],
   "outputs": [
    {
     "output_type": "stream",
     "name": "stdout",
     "text": [
      "['https://www.youtube.com/watch?v=ozEI3dEV95w', 'https://www.youtube.com/watch?v=87onVpBIFnI', 'https://www.youtube.com/watch?v=uOebscm4sLM', 'https://www.youtube.com/watch?v=WNZHC9E5P2Y', 'https://www.youtube.com/watch?v=FNezVBjYqC4', 'https://www.youtube.com/watch?v=uLMmIa8lKjY', 'https://www.youtube.com/watch?v=6PVwadPtuVY', 'https://www.youtube.com/watch?v=keC20a6auG0', 'https://www.youtube.com/watch?v=ceIeOs23kdo', 'https://www.youtube.com/watch?v=ihncVY45sVo']\n"
     ]
    }
   ],
   "metadata": {}
  },
  {
   "cell_type": "code",
   "execution_count": 1,
   "source": [
    "cd .."
   ],
   "outputs": [
    {
     "output_type": "stream",
     "name": "stdout",
     "text": [
      "c:\\Users\\Tanner\\Documents\\Repos\\open-lyrics-dataset\n"
     ]
    }
   ],
   "metadata": {}
  },
  {
   "cell_type": "code",
   "execution_count": 7,
   "source": [
    "from network import YoutubeInterface\r\n",
    "title = 'overwhelming'\r\n",
    "artist = 'jon bellion'\r\n",
    "interface = YoutubeInterface()\r\n",
    "\r\n",
    "async def fn():\r\n",
    "    bois = await interface.get_urls_from_search(title, artist)\r\n",
    "    print(bois)\r\n",
    "\r\n",
    "await fn()"
   ],
   "outputs": [
    {
     "output_type": "error",
     "ename": "AttributeError",
     "evalue": "'NoneType' object has no attribute 'find_all'",
     "traceback": [
      "\u001b[1;31m---------------------------------------------------------------------------\u001b[0m",
      "\u001b[1;31mAttributeError\u001b[0m                            Traceback (most recent call last)",
      "\u001b[1;32m<ipython-input-7-4a756d7694c0>\u001b[0m in \u001b[0;36m<module>\u001b[1;34m\u001b[0m\n\u001b[0;32m      8\u001b[0m     \u001b[0mprint\u001b[0m\u001b[1;33m(\u001b[0m\u001b[0mbois\u001b[0m\u001b[1;33m)\u001b[0m\u001b[1;33m\u001b[0m\u001b[1;33m\u001b[0m\u001b[0m\n\u001b[0;32m      9\u001b[0m \u001b[1;33m\u001b[0m\u001b[0m\n\u001b[1;32m---> 10\u001b[1;33m \u001b[1;32mawait\u001b[0m \u001b[0mfn\u001b[0m\u001b[1;33m(\u001b[0m\u001b[1;33m)\u001b[0m\u001b[1;33m\u001b[0m\u001b[1;33m\u001b[0m\u001b[0m\n\u001b[0m",
      "\u001b[1;32m<ipython-input-7-4a756d7694c0>\u001b[0m in \u001b[0;36mfn\u001b[1;34m()\u001b[0m\n\u001b[0;32m      5\u001b[0m \u001b[1;33m\u001b[0m\u001b[0m\n\u001b[0;32m      6\u001b[0m \u001b[1;32masync\u001b[0m \u001b[1;32mdef\u001b[0m \u001b[0mfn\u001b[0m\u001b[1;33m(\u001b[0m\u001b[1;33m)\u001b[0m\u001b[1;33m:\u001b[0m\u001b[1;33m\u001b[0m\u001b[1;33m\u001b[0m\u001b[0m\n\u001b[1;32m----> 7\u001b[1;33m     \u001b[0mbois\u001b[0m \u001b[1;33m=\u001b[0m \u001b[1;32mawait\u001b[0m \u001b[0minterface\u001b[0m\u001b[1;33m.\u001b[0m\u001b[0mget_urls_from_search\u001b[0m\u001b[1;33m(\u001b[0m\u001b[0mtitle\u001b[0m\u001b[1;33m,\u001b[0m \u001b[0martist\u001b[0m\u001b[1;33m)\u001b[0m\u001b[1;33m\u001b[0m\u001b[1;33m\u001b[0m\u001b[0m\n\u001b[0m\u001b[0;32m      8\u001b[0m     \u001b[0mprint\u001b[0m\u001b[1;33m(\u001b[0m\u001b[0mbois\u001b[0m\u001b[1;33m)\u001b[0m\u001b[1;33m\u001b[0m\u001b[1;33m\u001b[0m\u001b[0m\n\u001b[0;32m      9\u001b[0m \u001b[1;33m\u001b[0m\u001b[0m\n",
      "\u001b[1;32mc:\\Users\\Tanner\\Documents\\Repos\\open-lyrics-dataset\\network\\youtube_interface.py\u001b[0m in \u001b[0;36mget_urls_from_search\u001b[1;34m(self, song_title, artist_name)\u001b[0m\n\u001b[0;32m     27\u001b[0m \u001b[1;33m\u001b[0m\u001b[0m\n\u001b[0;32m     28\u001b[0m         \u001b[0msoup\u001b[0m \u001b[1;33m=\u001b[0m \u001b[0mBeautifulSoup\u001b[0m\u001b[1;33m(\u001b[0m\u001b[0mresponse\u001b[0m\u001b[1;33m,\u001b[0m \u001b[1;34m'lxml'\u001b[0m\u001b[1;33m)\u001b[0m\u001b[1;33m\u001b[0m\u001b[1;33m\u001b[0m\u001b[0m\n\u001b[1;32m---> 29\u001b[1;33m         \u001b[1;32mreturn\u001b[0m \u001b[1;33m[\u001b[0m\u001b[0mresult_block\u001b[0m\u001b[1;33m.\u001b[0m\u001b[0mfind\u001b[0m\u001b[1;33m(\u001b[0m\u001b[1;34m'a'\u001b[0m\u001b[1;33m)\u001b[0m\u001b[1;33m[\u001b[0m\u001b[1;34m'href'\u001b[0m\u001b[1;33m]\u001b[0m \u001b[1;32mfor\u001b[0m \u001b[0mresult_block\u001b[0m \u001b[1;32min\u001b[0m \u001b[0msoup\u001b[0m\u001b[1;33m.\u001b[0m\u001b[0mfind\u001b[0m\u001b[1;33m(\u001b[0m\u001b[1;34m'div'\u001b[0m\u001b[1;33m,\u001b[0m \u001b[1;33m{\u001b[0m\u001b[1;34m'id'\u001b[0m \u001b[1;33m:\u001b[0m \u001b[1;34m'search'\u001b[0m\u001b[1;33m}\u001b[0m\u001b[1;33m)\u001b[0m\u001b[1;33m.\u001b[0m\u001b[0mfind_all\u001b[0m\u001b[1;33m(\u001b[0m\u001b[1;34m'div'\u001b[0m\u001b[1;33m,\u001b[0m \u001b[1;33m{\u001b[0m\u001b[1;34m'class'\u001b[0m \u001b[1;33m:\u001b[0m \u001b[1;34m'g'\u001b[0m\u001b[1;33m}\u001b[0m\u001b[1;33m)\u001b[0m\u001b[1;33m]\u001b[0m\u001b[1;33m\u001b[0m\u001b[1;33m\u001b[0m\u001b[0m\n\u001b[0m\u001b[0;32m     30\u001b[0m \u001b[1;33m\u001b[0m\u001b[0m\n\u001b[0;32m     31\u001b[0m     \u001b[1;32masync\u001b[0m \u001b[1;32mdef\u001b[0m \u001b[0mget_video_data\u001b[0m\u001b[1;33m(\u001b[0m\u001b[0mself\u001b[0m\u001b[1;33m,\u001b[0m \u001b[0mvideo_url\u001b[0m\u001b[1;33m)\u001b[0m\u001b[1;33m:\u001b[0m\u001b[1;33m\u001b[0m\u001b[1;33m\u001b[0m\u001b[0m\n",
      "\u001b[1;31mAttributeError\u001b[0m: 'NoneType' object has no attribute 'find_all'"
     ]
    }
   ],
   "metadata": {}
  },
  {
   "cell_type": "code",
   "execution_count": 4,
   "source": [
    "from network import SoundcloudInterface\r\n",
    "title = 'space scraper'\r\n",
    "artist = 'illuminate'\r\n",
    "interface = SoundcloudInterface()\r\n",
    "await interface.get_song_url(title, artist)"
   ],
   "outputs": [
    {
     "output_type": "execute_result",
     "data": {
      "text/plain": [
       "'/dj-illuminate/space-scraper'"
      ]
     },
     "metadata": {},
     "execution_count": 4
    }
   ],
   "metadata": {}
  },
  {
   "cell_type": "code",
   "execution_count": 2,
   "source": [
    "from network import SoundcloudInterface\r\n",
    "interface = SoundcloudInterface()\r\n",
    "await interface.get_track_details('https://soundcloud.com/dj-illuminate/space-scraper')"
   ],
   "outputs": [
    {
     "output_type": "execute_result",
     "data": {
      "text/plain": [
       "{'soundcloud_likes': '25',\n",
       " 'soundcloud_downloads': '0',\n",
       " 'soundcloud_comments': '1',\n",
       " 'soundcloud_genre_tags': 'Future Funk',\n",
       " 'soundcloud_playcount': '1643',\n",
       " 'soundcloud_artist_followers': '922'}"
      ]
     },
     "metadata": {},
     "execution_count": 2
    }
   ],
   "metadata": {}
  }
 ],
 "metadata": {
  "orig_nbformat": 4,
  "language_info": {
   "name": "python",
   "version": "3.8.3",
   "mimetype": "text/x-python",
   "codemirror_mode": {
    "name": "ipython",
    "version": 3
   },
   "pygments_lexer": "ipython3",
   "nbconvert_exporter": "python",
   "file_extension": ".py"
  },
  "kernelspec": {
   "name": "python3",
   "display_name": "Python 3.8.3 64-bit ('base': conda)"
  },
  "interpreter": {
   "hash": "ecf5722fdaf1897a315d257d89d94520bfcaa453217d5becf09b39e73618b0de"
  }
 },
 "nbformat": 4,
 "nbformat_minor": 2
}